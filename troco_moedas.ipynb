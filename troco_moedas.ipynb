{
  "cells": [
    {
      "cell_type": "code",
      "execution_count": 6,
      "metadata": {
        "id": "jdjImhQVsn_O"
      },
      "outputs": [],
      "source": [
        "import sys\n",
        "import numpy as np\n",
        "from time import time\n",
        "import matplotlib.pyplot as plt"
      ]
    },
    {
      "cell_type": "code",
      "execution_count": 7,
      "metadata": {
        "id": "8bWiedWl-CdJ"
      },
      "outputs": [],
      "source": [
        "sys.setrecursionlimit(1000000000)\n"
      ]
    },
    {
      "cell_type": "code",
      "execution_count": 8,
      "metadata": {
        "id": "vhel1qrrsMz7"
      },
      "outputs": [],
      "source": [
        "def ProbTrocoMin(N, S):\n",
        "  Opt = [0 for i in range(0, N+1)]\n",
        "  numMoedasDisp = len(S)\n",
        "\n",
        "  for i in range(1, N+1):\n",
        "    smallest = np.inf\n",
        "    for j in range (0, numMoedasDisp):\n",
        "      if (S[j] <= i):\n",
        "        smallest = min(smallest, Opt[i - S[j]])\n",
        "    Opt[i] = 1 + smallest\n",
        "  return Opt[N]\n"
      ]
    },
    {
      "cell_type": "code",
      "execution_count": 9,
      "metadata": {
        "id": "8tIo8S5u-q3D"
      },
      "outputs": [],
      "source": [
        "def ProbTrocoMinRec(N, S, memo=None):\n",
        "    if memo is None:\n",
        "        memo = [-1] * (N + 1)\n",
        "    if N == 0:\n",
        "        return 0\n",
        "    if memo[N] != -1:\n",
        "        return memo[N]\n",
        "    min_coins = float('inf')\n",
        "    for coin in S:\n",
        "        if N >= coin:\n",
        "            num_coins = ProbTrocoMinRec(N - coin, S, memo)\n",
        "            if num_coins != float('inf'):\n",
        "                min_coins = min(min_coins, num_coins + 1)\n",
        "    memo[N] = min_coins\n",
        "    return memo[N]\n"
      ]
    },
    {
      "cell_type": "code",
      "execution_count": 10,
      "metadata": {},
      "outputs": [],
      "source": [
        "N = 5489596\n",
        "S = [1, 5, 10, 25, 50, 100]\n"
      ]
    },
    {
      "cell_type": "code",
      "execution_count": 11,
      "metadata": {},
      "outputs": [],
      "source": [
        "start_iter = time()\n",
        "coin_qnt_iter = ProbTrocoMin(N, S)\n",
        "end_iter = time()\n"
      ]
    },
    {
      "cell_type": "code",
      "execution_count": 12,
      "metadata": {},
      "outputs": [
        {
          "name": "stdout",
          "output_type": "stream",
          "text": [
            "Resultado com recorrência para 5489596 centavos de troco com [1, 5, 10, 25, 50, 100] moedas disponíveis\n",
            "Quantidade de moedas: 54900\n",
            "Tempo de execução: 5.9250757694244385\n"
          ]
        }
      ],
      "source": [
        "print(f'Resultado com recorrência para {N} centavos de troco com {S} moedas disponíveis')\n",
        "print('Quantidade de moedas:', end=' ')\n",
        "print(coin_qnt_iter)\n",
        "print('Tempo de execução:', end=' ')\n",
        "print(end_iter - start_iter)\n"
      ]
    },
    {
      "cell_type": "code",
      "execution_count": 13,
      "metadata": {},
      "outputs": [],
      "source": [
        "start_rec = time()\n",
        "coin_qnt_rec = ProbTrocoMinRec(N, S)\n",
        "end_rec = time()\n"
      ]
    },
    {
      "cell_type": "code",
      "execution_count": 14,
      "metadata": {},
      "outputs": [
        {
          "name": "stdout",
          "output_type": "stream",
          "text": [
            "Resultado com recorrência para 5489596 centavos de troco com [1, 5, 10, 25, 50, 100] moedas disponíveis\n",
            "Quantidade de moedas: 54900\n",
            "Tempo de execução: 16.36399817466736\n"
          ]
        }
      ],
      "source": [
        "print(f'Resultado com recorrência para {N} centavos de troco com {S} moedas disponíveis')\n",
        "print('Quantidade de moedas:', end=' ')\n",
        "print(coin_qnt_rec)\n",
        "print('Tempo de execução:', end=' ')\n",
        "print(end_rec - start_rec)\n"
      ]
    }
  ],
  "metadata": {
    "colab": {
      "provenance": []
    },
    "kernelspec": {
      "display_name": "Python 3",
      "name": "python3"
    },
    "language_info": {
      "codemirror_mode": {
        "name": "ipython",
        "version": 3
      },
      "file_extension": ".py",
      "mimetype": "text/x-python",
      "name": "python",
      "nbconvert_exporter": "python",
      "pygments_lexer": "ipython3",
      "version": "3.11.3"
    }
  },
  "nbformat": 4,
  "nbformat_minor": 0
}
