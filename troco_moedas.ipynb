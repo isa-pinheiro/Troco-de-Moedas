{
  "cells": [
    {
      "cell_type": "code",
      "execution_count": null,
      "metadata": {
        "id": "jdjImhQVsn_O"
      },
      "outputs": [],
      "source": [
        "import sys\n",
        "import numpy as np\n",
        "from time import time\n",
        "import matplotlib.pyplot as plt"
      ]
    },
    {
      "cell_type": "code",
      "execution_count": null,
      "metadata": {
        "id": "8bWiedWl-CdJ"
      },
      "outputs": [],
      "source": []
    },
    {
      "cell_type": "code",
      "execution_count": 23,
      "metadata": {
        "id": "vhel1qrrsMz7"
      },
      "outputs": [
        {
          "name": "stdout",
          "output_type": "stream",
          "text": [
            "3\n"
          ]
        },
        {
          "data": {
            "text/plain": [
              "'  \\n\\nfor currentAmount in range(1, amount + 1):\\n        # Verifica cada denominação de moeda\\n        for coin in coins:\\n            if coin <= currentAmount:\\n                minCoins[currentAmount] = min(minCoins[currentAmount], minCoins[currentAmo\\namount = 11\\ncoins = [1, 2, 5]\\n\\nNa Criação do Array minMoedas:\\n    Inicializamos minMoedas com float(\"inf\") para todos os valores de 0 a 11, exceto minMoedas[0], que é 0.\\n    minMoedas = [0, inf, inf, inf, inf, inf, inf, inf, inf, inf, inf, inf]\\n\\nNa Iteração dos Valores\\n    Para quantia = 1:\\n        Verificação para cada moeda:\\n            Moeda 1: minMoedas[1] = min(minMoedas[1], minMoedas[1 - 1] + 1) = min(inf, 0 + 1) = 1\\n            minMoedas = [0, 1, inf, inf, inf, inf, inf, inf, inf, inf, inf, inf]\\n\\n    Para quantia = 2:\\n        Verificação para cada moeda:\\n            Moeda 1: minMoedas[2] = min(minMoedas[2], minMoedas[2 - 1] + 1) = min(inf, 1 + 1) = 2\\n            Moeda 2: minMoedas[2] = min(minMoedas[2], minMoedas[2 - 2] + 1) = min(2, 0 + 1) = 1\\n            minMoedas = [0, 1, 1, inf, inf, inf, inf, inf, inf, inf, inf, inf]\\n\\n        .\\n        .\\n        .\\n\\n    Para quantia = 11:\\n        ...\\n\\n'"
            ]
          },
          "execution_count": 23,
          "metadata": {},
          "output_type": "execute_result"
        }
      ],
      "source": [
        "def ProbTrocoMin(amount, coins):\n",
        "    # Verifica se o valor é válido\n",
        "    if amount < 0:\n",
        "        return -1\n",
        "    \n",
        "    # Inicializa o array para armazenar o menor número de moedas para cada valor\n",
        "    minCoins = [float(\"inf\")] * (amount + 1)\n",
        "    minCoins[0] = 0  # Caso base: 0 moedas são necessárias para formar o valor 0\n",
        "    \n",
        "    # Itera sobre cada valor de 1 a valor\n",
        "    for currentAmount in range(1, amount + 1):\n",
        "        # Verifica cada denominação de moeda\n",
        "        for coin in coins:\n",
        "            if coin <= currentAmount:\n",
        "                minCoins[currentAmount] = min(minCoins[currentAmount], minCoins[currentAmount - coin] + 1)\n",
        "    \n",
        "    # Retorna o resultado final ou -1 se nenhuma solução for encontrada\n",
        "    return minCoins[amount] if minCoins[amount] != float(\"inf\") else -1\n",
        "\n",
        "if __name__ == '__main__':\n",
        "    amount = 11\n",
        "    coins = [1, 2, 5]\n",
        "    print(ProbTrocoMin(amount, coins)) \n",
        "\n",
        "\n",
        "\n",
        "'''  \n",
        "\n",
        "for currentAmount in range(1, amount + 1):\n",
        "        # Verifica cada denominação de moeda\n",
        "        for coin in coins:\n",
        "            if coin <= currentAmount:\n",
        "                minCoins[currentAmount] = min(minCoins[currentAmount], minCoins[currentAmo\n",
        "amount = 11\n",
        "coins = [1, 2, 5]\n",
        "\n",
        "Na Criação do Array minMoedas:\n",
        "    Inicializamos minMoedas com float(\"inf\") para todos os valores de 0 a 11, exceto minMoedas[0], que é 0.\n",
        "    minMoedas = [0, inf, inf, inf, inf, inf, inf, inf, inf, inf, inf, inf]\n",
        "\n",
        "Na Iteração dos Valores\n",
        "    Para quantia = 1:\n",
        "        Verificação para cada moeda:\n",
        "            Moeda 1: minMoedas[1] = min(minMoedas[1], minMoedas[1 - 1] + 1) = min(inf, 0 + 1) = 1\n",
        "            minMoedas = [0, 1, inf, inf, inf, inf, inf, inf, inf, inf, inf, inf]\n",
        "\n",
        "    Para quantia = 2:\n",
        "        Verificação para cada moeda:\n",
        "            Moeda 1: minMoedas[2] = min(minMoedas[2], minMoedas[2 - 1] + 1) = min(inf, 1 + 1) = 2\n",
        "            Moeda 2: minMoedas[2] = min(minMoedas[2], minMoedas[2 - 2] + 1) = min(2, 0 + 1) = 1\n",
        "            minMoedas = [0, 1, 1, inf, inf, inf, inf, inf, inf, inf, inf, inf]\n",
        "\n",
        "        .\n",
        "        .\n",
        "        .\n",
        "\n",
        "    Para quantia = 11:\n",
        "        ...\n",
        "\n",
        "'''\n"
      ]
    },
    {
      "cell_type": "code",
      "execution_count": 30,
      "metadata": {
        "id": "8tIo8S5u-q3D"
      },
      "outputs": [
        {
          "name": "stdout",
          "output_type": "stream",
          "text": [
            "{1: 1}\n",
            "{1: 1, 2: 1}\n",
            "{1: 1, 2: 1, 3: 2}\n",
            "{1: 1, 2: 1, 3: 2, 4: 2}\n",
            "{1: 1, 2: 1, 3: 2, 4: 2, 5: 1}\n",
            "{1: 1, 2: 1, 3: 2, 4: 2, 5: 1, 6: 2}\n",
            "{1: 1, 2: 1, 3: 2, 4: 2, 5: 1, 6: 2, 7: 2}\n",
            "{1: 1, 2: 1, 3: 2, 4: 2, 5: 1, 6: 2, 7: 2, 8: 3}\n",
            "{1: 1, 2: 1, 3: 2, 4: 2, 5: 1, 6: 2, 7: 2, 8: 3, 9: 3}\n",
            "{1: 1, 2: 1, 3: 2, 4: 2, 5: 1, 6: 2, 7: 2, 8: 3, 9: 3, 10: 2}\n",
            "{1: 1, 2: 1, 3: 2, 4: 2, 5: 1, 6: 2, 7: 2, 8: 3, 9: 3, 10: 2, 11: 3}\n",
            "3\n"
          ]
        }
      ],
      "source": [
        "\n",
        "def ProbTrocoMin (amount, coins):\n",
        "    # Initialize the memoization dictionary\n",
        "    memo = {}\n",
        "    \n",
        "    # Call the helper function to calculate the minimum change\n",
        "    result = helper(amount, coins, memo)\n",
        "    return result if result != float(\"inf\") else -1\n",
        "\n",
        "def helper(currentAmount, coins, memo):\n",
        "    # Base case: if the amount is 0, no coins are needed\n",
        "    if currentAmount == 0:\n",
        "        return 0\n",
        "    # If the amount has already been calculated, return the memoized value\n",
        "    if currentAmount in memo:\n",
        "        return memo[currentAmount]\n",
        "    \n",
        "    # Initialize the minimum number of coins as infinity\n",
        "    minCoins = float(\"inf\")\n",
        "    \n",
        "    # Check each coin denomination\n",
        "    for coin in coins:\n",
        "        if coin <= currentAmount:\n",
        "            numCoins = helper(currentAmount - coin, coins, memo)\n",
        "            if numCoins != float(\"inf\"):\n",
        "                minCoins = min(minCoins, numCoins + 1)\n",
        "    \n",
        "    # Memoize the result\n",
        "    memo[currentAmount] = minCoins\n",
        "    print(memo)\n",
        "    return minCoins\n",
        "\n",
        "# Example usage:\n",
        "if __name__ == '__main__':\n",
        "    amount = 11\n",
        "    coins = [1, 2, 5]\n",
        "    print(ProbTrocoMin(amount, coins)) "
      ]
    },
    {
      "cell_type": "code",
      "execution_count": null,
      "metadata": {},
      "outputs": [],
      "source": [
        "N = 5489596\n",
        "S = [1, 5, 10, 25, 50, 100]\n",
        "print(ProbTrocoMin(amount, coins)) "
      ]
    },
    {
      "cell_type": "code",
      "execution_count": null,
      "metadata": {},
      "outputs": [],
      "source": [
        "start_iter = time()\n",
        "coin_qnt_iter = ProbTrocoMin(N, S)\n",
        "end_iter = time()\n"
      ]
    },
    {
      "cell_type": "code",
      "execution_count": null,
      "metadata": {},
      "outputs": [],
      "source": [
        "print(f'Resultado com recorrência para {N} centavos de troco com {S} moedas disponíveis')\n",
        "print('Quantidade de moedas:', end=' ')\n",
        "print(coin_qnt_iter)\n",
        "print('Tempo de execução:', end=' ')\n",
        "print(end_iter - start_iter)\n"
      ]
    },
    {
      "cell_type": "code",
      "execution_count": null,
      "metadata": {},
      "outputs": [],
      "source": [
        "start_rec = time()\n",
        "coin_qnt_rec = ProbTrocoMinRec(N, S)\n",
        "end_rec = time()\n"
      ]
    },
    {
      "cell_type": "code",
      "execution_count": null,
      "metadata": {},
      "outputs": [],
      "source": [
        "print(f'Resultado com recorrência para {N} centavos de troco com {S} moedas disponíveis')\n",
        "print('Quantidade de moedas:', end=' ')\n",
        "print(coin_qnt_rec)\n",
        "print('Tempo de execução:', end=' ')\n",
        "print(end_rec - start_rec)\n"
      ]
    }
  ],
  "metadata": {
    "colab": {
      "provenance": []
    },
    "kernelspec": {
      "display_name": "Python 3",
      "name": "python3"
    },
    "language_info": {
      "codemirror_mode": {
        "name": "ipython",
        "version": 3
      },
      "file_extension": ".py",
      "mimetype": "text/x-python",
      "name": "python",
      "nbconvert_exporter": "python",
      "pygments_lexer": "ipython3",
      "version": "3.11.9"
    }
  },
  "nbformat": 4,
  "nbformat_minor": 0
}
